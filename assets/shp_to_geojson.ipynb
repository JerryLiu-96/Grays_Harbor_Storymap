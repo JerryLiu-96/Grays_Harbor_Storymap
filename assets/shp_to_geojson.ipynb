{
 "cells": [
  {
   "attachments": {},
   "cell_type": "markdown",
   "metadata": {},
   "source": [
    "# Title: Convert shapefile to geojson (data from ECY)\n",
    "\n",
    "## We get the shorelines from the WA dept of ecology, in form of a shapefile referenced in EPSG:2286. We convert it to EPSG 4326, which is the longitude/latitude projection, and then we output it as a geojson file."
   ]
  },
  {
   "cell_type": "code",
   "execution_count": 63,
   "metadata": {},
   "outputs": [],
   "source": [
    "import geopandas as gpd\n",
    "import json"
   ]
  },
  {
   "cell_type": "code",
   "execution_count": 112,
   "metadata": {},
   "outputs": [],
   "source": [
    "import re\n",
    "import os\n"
   ]
  },
  {
   "cell_type": "code",
   "execution_count": 113,
   "metadata": {},
   "outputs": [],
   "source": [
    "import pyproj"
   ]
  },
  {
   "cell_type": "code",
   "execution_count": 114,
   "metadata": {},
   "outputs": [],
   "source": [
    "from shapely.geometry import Point, LineString"
   ]
  },
  {
   "cell_type": "code",
   "execution_count": null,
   "metadata": {},
   "outputs": [],
   "source": [
    "\n",
    "#this cell pulls out every shapefile in the directory and puts them into a list\n",
    "\n",
    "directory_path = 'WA_ECY_historic_shorelines'\n",
    "\n",
    "pattern = re.compile(r'.*\\.shp$')\n",
    "\n",
    "filenames=[]\n",
    "\n",
    "for filename in os.listdir(directory_path):\n",
    "    if pattern.match(filename):\n",
    "        filenames.append(filename)\n",
    "        #print(filename)\n",
    "\n"
   ]
  },
  {
   "cell_type": "code",
   "execution_count": 109,
   "metadata": {},
   "outputs": [
    {
     "name": "stdout",
     "output_type": "stream",
     "text": [
      "['shore_1997.shp', 'shore_196x.shp', 'shore_2015wa_2016or.shp', 'shore_1942.shp', 'shore_1995.shp', 'shore_197x.shp', 'shore_2005or_2006wa.shp', 'shore_192x.shp', 'shore_2001.shp', 'shore_198x.shp', 'shore_1999.shp', 'shore_195x.shp']\n"
     ]
    }
   ],
   "source": [
    "#the output is a list of all the .shp filenames in the directory\n",
    "print(filenames)\n"
   ]
  },
  {
   "cell_type": "code",
   "execution_count": 65,
   "metadata": {},
   "outputs": [],
   "source": [
    "# now let's read in the shapefiles\n",
    "# we'll use a dictionary named dict_shp to store the shapefiles\n",
    "\n",
    "dict_shp={}\n",
    "\n",
    "#namelist=[]\n",
    "\n",
    "for filename in filenames:\n",
    "    read_name=\"WA_ECY_historic_shorelines/\"+filename\n",
    "    dict_name=filename.split(\"e_\")[1][:-4]\n",
    "    #namelist.append(dict_name)\n",
    "    dict_shp[dict_name]=gpd.read_file(read_name)"
   ]
  },
  {
   "cell_type": "code",
   "execution_count": 110,
   "metadata": {},
   "outputs": [
    {
     "data": {
      "text/plain": [
       "dict_keys(['1997', '196x', '2015wa_2016or', '1942', '1995', '197x', '2005or_2006wa', '192x', '2001', '198x', '1999', '195x'])"
      ]
     },
     "execution_count": 110,
     "metadata": {},
     "output_type": "execute_result"
    }
   ],
   "source": [
    "#the keys of the dictionary\n",
    "dict_shp.keys()\n"
   ]
  },
  {
   "cell_type": "code",
   "execution_count": 111,
   "metadata": {},
   "outputs": [],
   "source": [
    "#dict_shp[\"2015wa_2016or\"]"
   ]
  },
  {
   "cell_type": "code",
   "execution_count": 68,
   "metadata": {},
   "outputs": [],
   "source": [
    "#this cell creates a function to convert the state plane coordinates to geographic coordinates\n",
    "\n",
    "\n",
    "proj = pyproj.Transformer.from_crs(2286, 4326, always_xy=True)   # 2286 is the state plane coordinate system for Washington State south, 4326 is the WGS84 coordinate system\n",
    "\n",
    "\n",
    "\n",
    "# Convert State Plane coordinates to geographic coordinates\n",
    "\n",
    "def convert_to_latlon(easting, northing):\n",
    "    longitude, latitude = proj.transform(easting, northing)\n",
    "    return (longitude, latitude)\n"
   ]
  },
  {
   "cell_type": "code",
   "execution_count": 70,
   "metadata": {},
   "outputs": [],
   "source": [
    "#this cell convert the state plane coordinates to geographic coordinates with the function created above\n",
    "for name in dict_shp.keys():\n",
    "    for i in range(len(dict_shp[name][\"geometry\"])):\n",
    "        if dict_shp[name][\"geometry\"][i]==None:\n",
    "            continue\n",
    "        dict_shp[name][\"geometry\"][i]=LineString([convert_to_latlon(dict_shp[name][\"geometry\"][i].coords[j][0],dict_shp[name][\"geometry\"][i].coords[j][1]) for j in range(len(dict_shp[name][\"geometry\"][i].coords))])"
   ]
  },
  {
   "cell_type": "code",
   "execution_count": 105,
   "metadata": {},
   "outputs": [
    {
     "name": "stdout",
     "output_type": "stream",
     "text": [
      "1997\n",
      "<class 'str'>\n",
      "<class 'dict'>\n",
      "196x\n",
      "<class 'str'>\n",
      "<class 'dict'>\n",
      "2015wa_2016or\n",
      "<class 'str'>\n",
      "<class 'dict'>\n",
      "1942\n",
      "<class 'str'>\n",
      "<class 'dict'>\n",
      "1995\n",
      "<class 'str'>\n",
      "<class 'dict'>\n",
      "197x\n",
      "<class 'str'>\n",
      "<class 'dict'>\n",
      "2005or_2006wa\n",
      "<class 'str'>\n",
      "<class 'dict'>\n",
      "192x\n",
      "<class 'str'>\n",
      "<class 'dict'>\n",
      "2001\n",
      "<class 'str'>\n",
      "<class 'dict'>\n",
      "198x\n",
      "<class 'str'>\n",
      "<class 'dict'>\n",
      "1999\n",
      "<class 'str'>\n",
      "<class 'dict'>\n",
      "195x\n",
      "<class 'str'>\n",
      "<class 'dict'>\n"
     ]
    }
   ],
   "source": [
    "#after the conversion from EPSG:2286 to EPSG:4326, this cell converts the shp file to geojson file, and write the geojson file to the folder ECY_historical_shorelines\n",
    "for entry in dict_shp.keys():\n",
    "    print(entry)\n",
    "    gjf = dict_shp[entry].to_json()\n",
    "    print(type(gjf))\n",
    "    gjf=json.loads(gjf)\n",
    "    print(type(gjf))\n",
    "    with open(\"ECY_historical_shorelines/\"+\"shore_\"+entry+\".geojson\", \"w\") as f:\n",
    "        json.dump(gjf, f)"
   ]
  },
  {
   "cell_type": "code",
   "execution_count": 107,
   "metadata": {},
   "outputs": [
    {
     "name": "stdout",
     "output_type": "stream",
     "text": [
      "<class 'dict'>\n"
     ]
    },
    {
     "data": {
      "text/plain": [
       "60"
      ]
     },
     "execution_count": 107,
     "metadata": {},
     "output_type": "execute_result"
    }
   ],
   "source": [
    "#test whether we can open the geojson file we just created\n",
    "with open(\"ECY_historical_shorelines/shore_192x.geojson\", \"r\") as f:\n",
    "    gjf=json.load(f)\n",
    "    print(type(gjf))\n",
    "\n",
    "len(gjf[\"features\"])"
   ]
  },
  {
   "cell_type": "code",
   "execution_count": 104,
   "metadata": {},
   "outputs": [
    {
     "name": "stdout",
     "output_type": "stream",
     "text": [
      "<class 'str'> <class 'dict'>\n"
     ]
    }
   ],
   "source": [
    "\"\"\"import json\n",
    "\n",
    "json_string = '{\"name\": \"John\", \"age\": 30, \"city\": \"New York\"}'\n",
    "dictionary = json.loads(json_string)\n",
    "\n",
    "print(type(json_string),type(dictionary))\"\"\"\n"
   ]
  },
  {
   "cell_type": "code",
   "execution_count": null,
   "metadata": {},
   "outputs": [],
   "source": []
  }
 ],
 "metadata": {
  "kernelspec": {
   "display_name": "geo",
   "language": "python",
   "name": "python3"
  },
  "language_info": {
   "codemirror_mode": {
    "name": "ipython",
    "version": 3
   },
   "file_extension": ".py",
   "mimetype": "text/x-python",
   "name": "python",
   "nbconvert_exporter": "python",
   "pygments_lexer": "ipython3",
   "version": "3.10.8"
  },
  "orig_nbformat": 4,
  "vscode": {
   "interpreter": {
    "hash": "3cd076dcb4918821264036ad97c528c48b43b0ef789cb1b9c9a6088ad58347d2"
   }
  }
 },
 "nbformat": 4,
 "nbformat_minor": 2
}
