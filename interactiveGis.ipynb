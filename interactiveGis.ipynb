{
 "cells": [
  {
   "cell_type": "markdown",
   "metadata": {},
   "source": [
    "## This is the  python script for starting a gis"
   ]
  },
  {
   "cell_type": "code",
   "execution_count": 1,
   "metadata": {},
   "outputs": [],
   "source": [
    "import folium"
   ]
  },
  {
   "cell_type": "code",
   "execution_count": 4,
   "metadata": {},
   "outputs": [],
   "source": [
    "# Create a map object centered at an approximate location\n",
    "m = folium.Map(location=[46.8159, -124.0572], zoom_start=10)\n",
    "\n",
    "# Add your GeoJSON layer\n",
    "folium.GeoJson('assets/ECY_estimated_shorelines/Oct1/1860.geojson', name=\"Shore1860\").add_to(m)\n",
    "\n",
    "#add another layer\n",
    "folium.GeoJson('assets/ECY_estimated_shorelines/Oct1/1911.geojson', name=\"Shore1911\",style_function=lambda x: {'color': 'green'}).add_to(m)\n",
    "\n",
    "m.save('gis.html')"
   ]
  },
  {
   "cell_type": "code",
   "execution_count": 112,
   "metadata": {},
   "outputs": [],
   "source": [
    "# Create a map object centered at an approximate location\n",
    "m1 = folium.Map(location=[46.8159, -124.0572], zoom_start=10)\n",
    "\n",
    "# Add your GeoJSON layer\n",
    "#folium.GeoJson('assets/ECY_estimated_shorelines/May3_2024/1872.geojson', name=\"Shore1872\").add_to(m1)\n",
    "#folium.GeoJson('assets/ECY_estimated_shorelines_poly/May3_2024/14.8m/1872.geojson', name=\"Poly1872\").add_to(m1)\n",
    "\n",
    "#add another layer\n",
    "folium.GeoJson('assets/ECY_estimated_shorelines/May3_2024/1900.geojson', name=\"Shore1900\",style_function=lambda x: {'color': 'green'}).add_to(m1)\n",
    "folium.GeoJson('1900_can_remove.geojson', name=\"Offset1900\").add_to(m1)\n",
    "folium.GeoJson('assets/ECY_estimated_shorelines_poly/May3_2024/14.8m/1900.geojson', name=\"Poly1900\").add_to(m1)\n",
    "\n",
    "m1.save('gis_can_be_removed.html')"
   ]
  },
  {
   "cell_type": "markdown",
   "metadata": {},
   "source": [
    "<div id=\"coords\" style=\"position: fixed; top: 10px; left: 10px; z-index: 1000; background: white; padding: 5px;\">\n",
    "                    Move the mouse over the map.\n",
    "                </div>\n",
    "\n",
    "\n",
    "<script>\n",
    "\n",
    "\n",
    "            var map_604f0d238a1d36ed7b2ba9c1c4e44295 = L.map(\n",
    "                \"map_604f0d238a1d36ed7b2ba9c1c4e44295\",\n",
    "                {\n",
    "                    center: [46.8159, -124.0572],\n",
    "                    crs: L.CRS.EPSG3857,\n",
    "                    zoom: 10,\n",
    "                    zoomControl: true,\n",
    "                    preferCanvas: false,\n",
    "                }\n",
    "            );\n",
    "            map_604f0d238a1d36ed7b2ba9c1c4e44295.on('click', function(e) {\n",
    "                var coords = e.latlng;\n",
    "                console.log(coords);\n",
    "                document.getElementById('coords').innerText = 'Lat: ' + coords.lat.toFixed(5) + ', Lng: ' + coords.lng.toFixed(5);\n",
    "            });"
   ]
  },
  {
   "cell_type": "code",
   "execution_count": null,
   "metadata": {},
   "outputs": [],
   "source": []
  },
  {
   "cell_type": "code",
   "execution_count": null,
   "metadata": {
    "vscode": {
     "languageId": "javascript"
    }
   },
   "outputs": [],
   "source": [
    "<div id=\"coords\" style=\"position: fixed; top: 150px; left: 10px; z-index: 1000; background: white; padding: 5px;\">\n",
    "                    Move the mouse over the map.\n",
    "                </div>\n",
    "\n",
    "\n",
    "<script>\n",
    "\n",
    "\n",
    "            var map_604f0d238a1d36ed7b2ba9c1c4e44295 = L.map(\n",
    "                \"map_604f0d238a1d36ed7b2ba9c1c4e44295\",\n",
    "                {\n",
    "                    center: [46.8159, -124.0572],\n",
    "                    crs: L.CRS.EPSG3857,\n",
    "                    zoom: 10,\n",
    "                    zoomControl: true,\n",
    "                    preferCanvas: false,\n",
    "                }\n",
    "            );\n",
    "            map_604f0d238a1d36ed7b2ba9c1c4e44295.on('click', function(e) {\n",
    "                var coords = e.latlng;\n",
    "                console.log(coords);\n",
    "                document.getElementById('coords').innerText = 'Lat: ' + coords.lat.toFixed(5) + ', Lng: ' + coords.lng.toFixed(5);\n",
    "            });"
   ]
  },
  {
   "cell_type": "code",
   "execution_count": 5,
   "metadata": {},
   "outputs": [],
   "source": [
    "import json"
   ]
  },
  {
   "cell_type": "code",
   "execution_count": 6,
   "metadata": {},
   "outputs": [],
   "source": [
    "# open the coords.json\n",
    "\n",
    "\n",
    "with open('coords.json', 'r') as f:\n",
    "    coords = json.load(f)"
   ]
  },
  {
   "cell_type": "code",
   "execution_count": 8,
   "metadata": {},
   "outputs": [
    {
     "data": {
      "text/plain": [
       "174"
      ]
     },
     "execution_count": 8,
     "metadata": {},
     "output_type": "execute_result"
    }
   ],
   "source": [
    "len(coords)"
   ]
  },
  {
   "cell_type": "code",
   "execution_count": 41,
   "metadata": {},
   "outputs": [],
   "source": [
    "with open('coords_2.json', 'r') as f:\n",
    "    coords_2 = json.load(f)"
   ]
  },
  {
   "cell_type": "code",
   "execution_count": 42,
   "metadata": {},
   "outputs": [
    {
     "data": {
      "text/plain": [
       "32"
      ]
     },
     "execution_count": 42,
     "metadata": {},
     "output_type": "execute_result"
    }
   ],
   "source": [
    "len(coords_2)"
   ]
  },
  {
   "cell_type": "code",
   "execution_count": 43,
   "metadata": {},
   "outputs": [
    {
     "data": {
      "text/plain": [
       "['46.70779', '-124.07521']"
      ]
     },
     "execution_count": 43,
     "metadata": {},
     "output_type": "execute_result"
    }
   ],
   "source": [
    "coords_2[-1]"
   ]
  },
  {
   "cell_type": "code",
   "execution_count": 9,
   "metadata": {},
   "outputs": [],
   "source": [
    "#create two lists, the odd indices to the first list, and the even indices to the second list\n",
    "coords_1860 = coords[0::2]\n",
    "coords_1911 = coords[1::2]"
   ]
  },
  {
   "cell_type": "code",
   "execution_count": 25,
   "metadata": {},
   "outputs": [
    {
     "data": {
      "text/plain": [
       "[46.70927, -124.08096]"
      ]
     },
     "execution_count": 25,
     "metadata": {},
     "output_type": "execute_result"
    }
   ],
   "source": [
    "coords_1860[0]"
   ]
  },
  {
   "cell_type": "code",
   "execution_count": 35,
   "metadata": {},
   "outputs": [
    {
     "data": {
      "text/plain": [
       "[46.70903, -124.0892]"
      ]
     },
     "execution_count": 35,
     "metadata": {},
     "output_type": "execute_result"
    }
   ],
   "source": [
    "coords_1911[0]"
   ]
  },
  {
   "cell_type": "code",
   "execution_count": 44,
   "metadata": {},
   "outputs": [],
   "source": [
    "coords_2 = [[float(coord) for coord in pair] for pair in coords_2]"
   ]
  },
  {
   "cell_type": "code",
   "execution_count": 45,
   "metadata": {},
   "outputs": [],
   "source": [
    "#switch the order of the coordinates\n",
    "# in the form of lon_lat\n",
    "coords_2 = [[pair[1], pair[0]] for pair in coords_2]"
   ]
  },
  {
   "cell_type": "code",
   "execution_count": 13,
   "metadata": {},
   "outputs": [],
   "source": [
    "#turn the strings to float numbers\n",
    "coords_1860 = [[float(coord) for coord in pair] for pair in coords_1860]\n",
    "coords_1911 = [[float(coord) for coord in pair] for pair in coords_1911]"
   ]
  },
  {
   "cell_type": "code",
   "execution_count": 26,
   "metadata": {},
   "outputs": [],
   "source": [
    "dict_for_all_years_no_1860_1911 = {}\n",
    "for year in range(1861, 1911):\n",
    "    dict_for_all_years_no_1860_1911[year] = []\n",
    "    for point in range(len(coords_1860)):\n",
    "        coord_lat = coords_1860[point][0] + (coords_1911[point][0]-coords_1860[point][0])/(1911-1860)*(year-1860)\n",
    "        coord_lon = coords_1860[point][1] + (coords_1911[point][1]-coords_1860[point][1])/(1911-1860)*(year-1860)\n",
    "        coords_xy= [coord_lon, coord_lat]\n",
    "        dict_for_all_years_no_1860_1911[year].append(coords_xy)"
   ]
  },
  {
   "cell_type": "code",
   "execution_count": 27,
   "metadata": {},
   "outputs": [
    {
     "data": {
      "text/plain": [
       "dict_keys([1861, 1862, 1863, 1864, 1865, 1866, 1867, 1868, 1869, 1870, 1871, 1872, 1873, 1874, 1875, 1876, 1877, 1878, 1879, 1880, 1881, 1882, 1883, 1884, 1885, 1886, 1887, 1888, 1889, 1890, 1891, 1892, 1893, 1894, 1895, 1896, 1897, 1898, 1899, 1900, 1901, 1902, 1903, 1904, 1905, 1906, 1907, 1908, 1909, 1910])"
      ]
     },
     "execution_count": 27,
     "metadata": {},
     "output_type": "execute_result"
    }
   ],
   "source": [
    "dict_for_all_years_no_1860_1911.keys()"
   ]
  },
  {
   "cell_type": "code",
   "execution_count": 28,
   "metadata": {},
   "outputs": [
    {
     "data": {
      "text/plain": [
       "87"
      ]
     },
     "execution_count": 28,
     "metadata": {},
     "output_type": "execute_result"
    }
   ],
   "source": [
    "len(dict_for_all_years_no_1860_1911[1861])"
   ]
  },
  {
   "cell_type": "code",
   "execution_count": 46,
   "metadata": {},
   "outputs": [],
   "source": [
    "# append the coords_2 to the beginning of each value in the dict\n",
    "for year in dict_for_all_years_no_1860_1911.keys():\n",
    "    dict_for_all_years_no_1860_1911[year] = coords_2 + dict_for_all_years_no_1860_1911[year]"
   ]
  },
  {
   "cell_type": "code",
   "execution_count": 47,
   "metadata": {},
   "outputs": [
    {
     "data": {
      "text/plain": [
       "[[-123.97213, 46.70791],\n",
       " [-123.96741, 46.70644],\n",
       " [-123.96973, 46.70391],\n",
       " [-123.97531, 46.70297],\n",
       " [-123.98097, 46.70426],\n",
       " [-123.98509, 46.70597],\n",
       " [-123.98947, 46.70785],\n",
       " [-123.9953, 46.70938],\n",
       " [-124.00054, 46.71027],\n",
       " [-124.0056, 46.70962],\n",
       " [-124.00595, 46.71391],\n",
       " [-124.01513, 46.71727],\n",
       " [-124.01771, 46.71933],\n",
       " [-124.01779, 46.72198],\n",
       " [-124.02105, 46.72327],\n",
       " [-124.03118, 46.72698],\n",
       " [-124.03504, 46.72468],\n",
       " [-124.04028, 46.72786],\n",
       " [-124.04809, 46.72615],\n",
       " [-124.0365, 46.71745],\n",
       " [-124.05899, 46.71633],\n",
       " [-124.06517, 46.71144],\n",
       " [-124.06448, 46.70997],\n",
       " [-124.04963, 46.70603],\n",
       " [-124.04552, 46.70679],\n",
       " [-124.03564, 46.70409],\n",
       " [-124.02758, 46.70544],\n",
       " [-124.0256, 46.70444],\n",
       " [-124.02612, 46.70338],\n",
       " [-124.03376, 46.70214],\n",
       " [-124.06251, 46.70544],\n",
       " [-124.07521, 46.70779],\n",
       " [-124.08112156862745, 46.70926529411764],\n",
       " [-124.08086901960785, 46.71565235294118],\n",
       " [-124.08121588235295, 46.723638627450974],\n",
       " [-124.08054921568628, 46.73187392156863],\n",
       " [-124.08120235294118, 46.73798450980392],\n",
       " [-124.08658784313725, 46.74481392156863],\n",
       " [-124.08658784313725, 46.754929215686275],\n",
       " [-124.08663490196079, 46.7617537254902],\n",
       " [-124.08798490196078, 46.77303],\n",
       " [-124.08999764705882, 46.780761568627454],\n",
       " [-124.09172431372549, 46.79371],\n",
       " [-124.09636352941176, 46.81186882352941],\n",
       " [-124.10116705882352, 46.82884117647059],\n",
       " [-124.1031268627451, 46.83412764705883],\n",
       " [-124.1049362745098, 46.838940588235296],\n",
       " [-124.10611470588235, 46.84201176470589],\n",
       " [-124.10675862745097, 46.84389],\n",
       " [-124.1076731372549, 46.845999803921565],\n",
       " [-124.10809470588235, 46.84694019607843],\n",
       " [-124.10837568627451, 46.84788901960784],\n",
       " [-124.10905450980393, 46.84965764705883],\n",
       " [-124.10980784313725, 46.851549019607845],\n",
       " [-124.11088980392157, 46.85444],\n",
       " [-124.11197411764707, 46.85712176470589],\n",
       " [-124.11273156862745, 46.85912],\n",
       " [-124.11312333333333, 46.86110137254902],\n",
       " [-124.11373392156862, 46.863131960784315],\n",
       " [-124.11476450980393, 46.8665294117647],\n",
       " [-124.11612274509804, 46.87143117647059],\n",
       " [-124.11754568627451, 46.876695490196084],\n",
       " [-124.11903196078431, 46.880759019607844],\n",
       " [-124.11974137254902, 46.884453529411765],\n",
       " [-124.11941078431371, 46.88944098039215],\n",
       " [-124.11839843137254, 46.892700980392156],\n",
       " [-124.1174694117647, 46.896672352941174],\n",
       " [-124.11632078431371, 46.899110392156864],\n",
       " [-124.1133637254902, 46.90294588235294],\n",
       " [-124.11129882352941, 46.90411019607843],\n",
       " [-124.10876666666667, 46.904917647058824],\n",
       " [-124.1063011764706, 46.90578411764706],\n",
       " [-124.10390196078431, 46.906003725490194],\n",
       " [-124.10064156862745, 46.90510431372549],\n",
       " [-124.0984149019608, 46.90396019607843],\n",
       " [-124.09623431372549, 46.902179411764706],\n",
       " [-124.09753137254903, 46.90175921568627],\n",
       " [-124.09951725490197, 46.90311098039216],\n",
       " [-124.10330450980392, 46.90526960784314],\n",
       " [-124.10860607843136, 46.90388803921569],\n",
       " [-124.11119470588235, 46.902133725490195],\n",
       " [-124.11296352941177, 46.89933019607843],\n",
       " [-124.11304901960784, 46.89779803921569],\n",
       " [-124.11162921568628, 46.899433333333334],\n",
       " [-124.11046764705883, 46.90110705882353],\n",
       " [-124.10791470588235, 46.902698039215686],\n",
       " [-124.10339666666667, 46.90344411764706],\n",
       " [-124.10129294117647, 46.90137745098039],\n",
       " [-124.0994456862745, 46.90079803921569],\n",
       " [-124.09996019607843, 46.89945215686274],\n",
       " [-124.10001490196079, 46.898059215686274],\n",
       " [-124.09902215686274, 46.89661921568627],\n",
       " [-124.09839117647059, 46.89422784313725],\n",
       " [-124.09399294117648, 46.89366],\n",
       " [-124.09377705882353, 46.89217941176471],\n",
       " [-124.09366156862745, 46.89079980392157],\n",
       " [-124.09397352941177, 46.88966980392157],\n",
       " [-124.09426470588235, 46.887648235294115],\n",
       " [-124.0949905882353, 46.88610764705883],\n",
       " [-124.09726862745099, 46.885462156862744],\n",
       " [-124.09867392156863, 46.88451843137255],\n",
       " [-124.09940490196078, 46.88386019607843],\n",
       " [-124.10103490196079, 46.88157137254902],\n",
       " [-124.10320509803921, 46.88065725490196],\n",
       " [-124.10239470588235, 46.87883647058823],\n",
       " [-124.10152156862745, 46.87748784313726],\n",
       " [-124.10048862745099, 46.87627784313726],\n",
       " [-124.09905960784313, 46.87447],\n",
       " [-124.09843862745097, 46.87391117647059],\n",
       " [-124.09733392156862, 46.872970196078434],\n",
       " [-124.09688882352941, 46.8718994117647],\n",
       " [-124.09583803921569, 46.870747450980396],\n",
       " [-124.09568882352941, 46.869329803921566],\n",
       " [-124.09521666666666, 46.8682962745098],\n",
       " [-124.09485862745098, 46.86733705882353],\n",
       " [-124.09310176470588, 46.865470392156865],\n",
       " [-124.09090647058824, 46.863586862745095],\n",
       " [-124.0889719607843, 46.861868627450974],\n",
       " [-124.08684627450981, 46.8616468627451]]"
      ]
     },
     "execution_count": 47,
     "metadata": {},
     "output_type": "execute_result"
    }
   ],
   "source": [
    "dict_for_all_years_no_1860_1911[1861]"
   ]
  },
  {
   "cell_type": "code",
   "execution_count": 48,
   "metadata": {},
   "outputs": [
    {
     "data": {
      "text/plain": [
       "119"
      ]
     },
     "execution_count": 48,
     "metadata": {},
     "output_type": "execute_result"
    }
   ],
   "source": [
    "len(dict_for_all_years_no_1860_1911[1861])"
   ]
  },
  {
   "cell_type": "code",
   "execution_count": 49,
   "metadata": {},
   "outputs": [],
   "source": [
    "# for each value in the dict_for_all_years_no_1860_1911, create a geojson file, and this is a linestring\n",
    "for year in dict_for_all_years_no_1860_1911.keys():\n",
    "    geojson = {\n",
    "        \"type\": \"Feature\",\n",
    "        \"properties\": {\n",
    "            \"name\": \"Shoreline\",\n",
    "            \"year\": year\n",
    "        },\n",
    "        \"geometry\": {\n",
    "            \"type\": \"LineString\",\n",
    "            \"coordinates\": dict_for_all_years_no_1860_1911[year]\n",
    "        }\n",
    "    }\n",
    "    with open(f'assets/ECY_estimated_shorelines/May3_2024/{year}.geojson', 'w') as f:\n",
    "        json.dump(geojson, f)"
   ]
  },
  {
   "cell_type": "code",
   "execution_count": 51,
   "metadata": {},
   "outputs": [
    {
     "data": {
      "text/plain": [
       "75"
      ]
     },
     "execution_count": 51,
     "metadata": {},
     "output_type": "execute_result"
    }
   ],
   "source": [
    "#given a coordinate, find the index of the closest point in the dict_for_all_years_no_1860_1911[1900]\n",
    "#input fromat of coord is [lon, lat]\n",
    "def find_closest_point_index(coord, year):\n",
    "    min_distance = float('inf')\n",
    "    min_index = 0\n",
    "    for index, point in enumerate(dict_for_all_years_no_1860_1911[year]):\n",
    "        distance = (point[0]-coord[0])**2 + (point[1]-coord[1])**2\n",
    "        if distance < min_distance:\n",
    "            min_distance = distance\n",
    "            min_index = index\n",
    "    return min_index\n",
    "\n",
    "find_closest_point_index([-124.09524,46.90216], 1900)"
   ]
  },
  {
   "cell_type": "code",
   "execution_count": 52,
   "metadata": {},
   "outputs": [
    {
     "data": {
      "text/plain": [
       "88"
      ]
     },
     "execution_count": 52,
     "metadata": {},
     "output_type": "execute_result"
    }
   ],
   "source": [
    "find_closest_point_index([-124.09654,46.90110], 1900)"
   ]
  },
  {
   "cell_type": "code",
   "execution_count": 55,
   "metadata": {},
   "outputs": [
    {
     "name": "stdout",
     "output_type": "stream",
     "text": [
      "Bearing from Point 1 to Point 2: 65.91892522544379 degrees\n"
     ]
    }
   ],
   "source": [
    "import math\n",
    "\n",
    "def calculate_bearing(lat1, lon1, lat2, lon2):\n",
    "    # Convert latitude and longitude from degrees to radians\n",
    "    lat1, lon1, lat2, lon2 = map(math.radians, [lat1, lon1, lat2, lon2])\n",
    "\n",
    "    # Difference in the coordinates\n",
    "    d_lon = lon2 - lon1\n",
    "\n",
    "    # Calculate the bearing\n",
    "    x = math.sin(d_lon) * math.cos(lat2)\n",
    "    y = math.cos(lat1) * math.sin(lat2) - (math.sin(lat1) * math.cos(lat2) * math.cos(d_lon))\n",
    "    initial_bearing = math.atan2(x, y)\n",
    "\n",
    "    # Convert bearing from radians to degrees\n",
    "    initial_bearing = math.degrees(initial_bearing)\n",
    "\n",
    "    # Normalize the bearing to 0-360 degrees\n",
    "    compass_bearing = (initial_bearing + 360) % 360\n",
    "\n",
    "    return compass_bearing\n",
    "\n",
    "# Example coordinates\n",
    "lat1, lon1 = 34.052235, -118.243683  # Los Angeles\n",
    "lat2, lon2 = 40.712776, -74.005974   # New York\n",
    "\n",
    "bearing = calculate_bearing(lat1, lon1, lat2, lon2)\n",
    "print(f\"Bearing from Point 1 to Point 2: {bearing} degrees\")\n",
    "\n"
   ]
  },
  {
   "cell_type": "code",
   "execution_count": 93,
   "metadata": {},
   "outputs": [
    {
     "data": {
      "text/plain": [
       "82.5"
      ]
     },
     "execution_count": 93,
     "metadata": {},
     "output_type": "execute_result"
    }
   ],
   "source": [
    "# bearing 1 is the starting bearing, bearing 2 is the ending\n",
    "def clockwise_bearing_difference_to_move(bearing1, bearing2):\n",
    "\n",
    "    difference = (bearing2 - bearing1 + 360) % 360\n",
    "    new_bearing = bearing1 + difference/2\n",
    "    # normalized to 0-360 deg\n",
    "    new_bearing = (new_bearing + 360) % 360\n",
    "    return new_bearing\n",
    "\n",
    "clockwise_bearing_difference_to_move(30,135)"
   ]
  },
  {
   "cell_type": "code",
   "execution_count": 59,
   "metadata": {},
   "outputs": [
    {
     "data": {
      "text/plain": [
       "[-73.24564413738352, 40.673119251484984]"
      ]
     },
     "execution_count": 59,
     "metadata": {},
     "output_type": "execute_result"
    }
   ],
   "source": [
    "#get the coordinates of the point after moving in a bearing direction for a certain distance in meter\n",
    "def get_destination_point(lat, lon, bearing, distance):\n",
    "    # Convert latitude and longitude from degrees to radians\n",
    "    lat, lon = map(math.radians, [lat, lon])\n",
    "\n",
    "    # Convert bearing from degrees to radians\n",
    "    bearing = math.radians(bearing)\n",
    "\n",
    "    # Radius of the Earth in meters\n",
    "    R = 6371000\n",
    "\n",
    "    # Calculate the coordinates\n",
    "    lat2 = math.asin(math.sin(lat) * math.cos(distance / R) + math.cos(lat) * math.sin(distance / R) * math.cos(bearing))\n",
    "    lon2 = lon + math.atan2(math.sin(bearing) * math.sin(distance / R) * math.cos(lat), math.cos(distance / R) - math.sin(lat) * math.sin(lat2))\n",
    "\n",
    "    # Convert latitude and longitude from radians to degrees\n",
    "    lat2 = math.degrees(lat2)\n",
    "    lon2 = math.degrees(lon2)\n",
    "\n",
    "    return [lon2, lat2]\n",
    "\n",
    "get_destination_point(34.052235, -118.243683, 65.91892522544379-360, 4000*1000)"
   ]
  },
  {
   "cell_type": "code",
   "execution_count": 94,
   "metadata": {},
   "outputs": [],
   "source": [
    "# remove points whose index is between the two indices I provided (keep these two points), after the removal, then starting from the second point, offset the point to the direction prependicular to the section defined by current point and the next point by a given distance (remember the coordinates are in the [longitute, latitude] format), the first point move in the same direction as the second one\n",
    "# index1 is smaller than index2\n",
    "def remove_points_and_offset(index1, index2, year, distance):\n",
    "\n",
    "    #this baseline is the line based on which i offest the points by a certain distance\n",
    "    #the reason i am using the baseline rather than the coastline is because\n",
    "    #i want to avoid the situation where the coastline is not smooth\n",
    "    baseline_to_move = dict_for_all_years_no_1860_1911[year][:index1+1] + dict_for_all_years_no_1860_1911[year][index2:]\n",
    "\n",
    "    container = []\n",
    "    point1 = baseline_to_move[0]\n",
    "    point2 = baseline_to_move[1]\n",
    "    #get the bearing from point1 to point2\n",
    "    bearing = calculate_bearing(point1[1], point1[0], point2[1], point2[0])\n",
    "    moving_bearing = bearing - 90\n",
    "    #get the point after moving in the moving_bearing direction for a certain distance\n",
    "    new_point = get_destination_point(point1[1], point1[0], moving_bearing, distance)\n",
    "    container.append(new_point)\n",
    "    for i in range(1,len(baseline_to_move)-1):\n",
    "        point1 = baseline_to_move[i-1]\n",
    "        point2 = baseline_to_move[i]\n",
    "        point3 = baseline_to_move[i+1]\n",
    "        #get the bearing from point2 to point1\n",
    "        bearing1 = calculate_bearing(point2[1], point2[0], point1[1], point1[0])\n",
    "        # get the bearing from point 2 to point 3\n",
    "        bearing2 = calculate_bearing(point2[1], point2[0], point3[1], point3[0])\n",
    "        moving_bearing = clockwise_bearing_difference_to_move(bearing1, bearing2)\n",
    "        #get the point after moving in the moving_bearing direction for a certain distance\n",
    "        new_point = get_destination_point(point2[1], point2[0], moving_bearing, distance)\n",
    "        container.append(new_point)\n",
    "    # the moving direction of the last point should be the same as the second but last point\n",
    "    point1=baseline_to_move[-2]\n",
    "    point2=baseline_to_move[-1]\n",
    "    bearing = calculate_bearing(point1[1], point1[0], point2[1], point2[0])\n",
    "    moving_bearing = bearing - 90\n",
    "    new_point = get_destination_point(point2[1], point2[0], moving_bearing, distance)\n",
    "    container.append(new_point)\n",
    "\n",
    "    return container\n"
   ]
  },
  {
   "cell_type": "code",
   "execution_count": 95,
   "metadata": {},
   "outputs": [],
   "source": [
    "offset_line_no_1860_1911 = {}\n",
    "for year in range(1861, 1911):\n",
    "    offset_line_no_1860_1911[year] = remove_points_and_offset(75, 88, year, 14.8)[::-1]"
   ]
  },
  {
   "cell_type": "code",
   "execution_count": 96,
   "metadata": {},
   "outputs": [
    {
     "data": {
      "text/plain": [
       "[[-124.0868169165522, 46.86177843988502],\n",
       " [-124.08887303877032, 46.861983259451655],\n",
       " [-124.09075321968963, 46.86366893561528],\n",
       " [-124.09294358776455, 46.86554797814935],\n",
       " [-124.09468014784161, 46.86739021414541],\n",
       " [-124.09502936844204, 46.86833258287103],\n",
       " [-124.09549754220569, 46.86935458552466],\n",
       " [-124.09565291032513, 46.8707886504334],\n",
       " [-124.0967108303903, 46.87195334751073],\n",
       " [-124.09716091815541, 46.8730312545259],\n",
       " [-124.09828516939072, 46.873993094029494],\n",
       " [-124.09889595110427, 46.87454210666878],\n",
       " [-124.10031886747586, 46.87634303013297],\n",
       " [-124.10134818193058, 46.87754841089592],\n",
       " [-124.1022121939353, 46.87888285750127],\n",
       " [-124.10302296303121, 46.88061016996371],\n",
       " [-124.1008905444287, 46.88148204285531],\n",
       " [-124.09923899730806, 46.88379049926406],\n",
       " [-124.09852773505725, 46.88443049600003],\n",
       " [-124.09716112007455, 46.88535117650878],\n",
       " [-124.09484738777653, 46.88601744252218],\n",
       " [-124.09407402505228, 46.88762116287277],\n",
       " [-124.09378073859394, 46.88965092789132],\n",
       " [-124.09346721227908, 46.89079120271375],\n",
       " [-124.09358288597458, 46.89218981317107],\n",
       " [-124.09384932682168, 46.89374991191633],\n",
       " [-124.09825287698625, 46.89432156626267],\n",
       " [-124.09883661601867, 46.89665973159328],\n",
       " [-124.09982425883301, 46.898086533042544],\n",
       " [-124.09976733881646, 46.89943343058636],\n",
       " [-124.09928853595639, 46.900719387607545],\n",
       " [-124.09604187881413, 46.902158713817236],\n",
       " [-124.0982807668493, 46.90405671992202],\n",
       " [-124.10054573489852, 46.90522019560471],\n",
       " [-124.10387761702484, 46.90613578189407],\n",
       " [-124.10635951956785, 46.90591110853834],\n",
       " [-124.10885243627624, 46.90503715311356],\n",
       " [-124.11140285363611, 46.90422272951076],\n",
       " [-124.11351485492884, 46.90302986740657],\n",
       " [-124.11650034241863, 46.899161994807265],\n",
       " [-124.11765884386804, 46.896703341257776],\n",
       " [-124.11858992066598, 46.89272530826841],\n",
       " [-124.119603969677, 46.88945786362895],\n",
       " [-124.11993593612952, 46.88444785866621],\n",
       " [-124.11922326582574, 46.88073417699091],\n",
       " [-124.1177359629499, 46.87666724265457],\n",
       " [-124.116314117113, 46.87140669724981],\n",
       " [-124.11495546303348, 46.866503509079024],\n",
       " [-124.11392456228188, 46.86310504344269],\n",
       " [-124.1133152295116, 46.86107904056468],\n",
       " [-124.1129225654474, 46.859094339544455],\n",
       " [-124.1121621320757, 46.85708732992259],\n",
       " [-124.1110778858105, 46.854405762037274],\n",
       " [-124.1099960099686, 46.851515026824565],\n",
       " [-124.10924251635755, 46.84962325892257],\n",
       " [-124.1085652456658, 46.84785889979719],\n",
       " [-124.10828332403862, 46.846907437581265],\n",
       " [-124.10785945204934, 46.84596137824002],\n",
       " [-124.10694671650971, 46.843855875576914],\n",
       " [-124.10630355158641, 46.841979672972876],\n",
       " [-124.1051245969294, 46.838907116991216],\n",
       " [-124.10331536951958, 46.83409471017249],\n",
       " [-124.10135691489046, 46.82881214905297],\n",
       " [-124.0965547871951, 46.81184470482453],\n",
       " [-124.09191703212743, 46.79369247091948],\n",
       " [-124.09019027632657, 46.78074382043172],\n",
       " [-124.08817762121994, 46.77301286131439],\n",
       " [-124.08682901655695, 46.761747968136476],\n",
       " [-124.086782114451, 46.754928901163865],\n",
       " [-124.08677614825018, 46.74478128361622],\n",
       " [-124.08138876923469, 46.73794718085839],\n",
       " [-124.08074339688359, 46.7318727444997],\n",
       " [-124.0814100255273, 46.72364033488906],\n",
       " [-124.08106314984715, 46.715652175861074],\n",
       " [-124.08128206275893, 46.709190432387494],\n",
       " [-124.07526852471278, 46.70766309468353],\n",
       " [-124.06255134312984, 46.705309954928545],\n",
       " [-124.03375355587865, 46.70200697379036],\n",
       " [-124.02598922893202, 46.70328164828178],\n",
       " [-124.0254149102842, 46.70448006155729],\n",
       " [-124.0275418885351, 46.70557050850973],\n",
       " [-124.03562645596757, 46.7042227751309],\n",
       " [-124.04550876864364, 46.706922876585],\n",
       " [-124.0496197315197, 46.70616291320454],\n",
       " [-124.06433884030552, 46.71006136094038],\n",
       " [-124.06497980413177, 46.71141338874991],\n",
       " [-124.05890299830484, 46.71621101489672],\n",
       " [-124.03631965480234, 46.71740072897792],\n",
       " [-124.04790239305058, 46.726115692156256],\n",
       " [-124.040320048948, 46.727729762210714],\n",
       " [-124.03504088281167, 46.724546901778126],\n",
       " [-124.03115821008758, 46.72684774114497],\n",
       " [-124.02114429410354, 46.72315365109676],\n",
       " [-124.01795712433947, 46.72191225681315],\n",
       " [-124.01789134705345, 46.71928247753411],\n",
       " [-124.01525143736016, 46.71716615537101],\n",
       " [-124.00611362823096, 46.71383838424692],\n",
       " [-124.00571975261231, 46.70951524888357],\n",
       " [-124.00054559139149, 46.710136955632585],\n",
       " [-123.99535813483904, 46.70925301008153],\n",
       " [-123.98955658876562, 46.70773087803926],\n",
       " [-123.98519174387806, 46.70585665263396],\n",
       " [-123.98105136147662, 46.70413915945545],\n",
       " [-123.97531775996283, 46.70283700683078],\n",
       " [-123.96961641590944, 46.703802072881835],\n",
       " [-123.9672240930362, 46.70647825634925],\n",
       " [-123.97204973905733, 46.70803118790559]]"
      ]
     },
     "execution_count": 96,
     "metadata": {},
     "output_type": "execute_result"
    }
   ],
   "source": [
    "offset_line_no_1860_1911[1861]"
   ]
  },
  {
   "cell_type": "code",
   "execution_count": 80,
   "metadata": {},
   "outputs": [
    {
     "data": {
      "text/plain": [
       "[[-123.97213, 46.70791],\n",
       " [-123.96741, 46.70644],\n",
       " [-123.96973, 46.70391],\n",
       " [-123.97531, 46.70297],\n",
       " [-123.98097, 46.70426],\n",
       " [-123.98509, 46.70597],\n",
       " [-123.98947, 46.70785],\n",
       " [-123.9953, 46.70938],\n",
       " [-124.00054, 46.71027],\n",
       " [-124.0056, 46.70962],\n",
       " [-124.00595, 46.71391],\n",
       " [-124.01513, 46.71727],\n",
       " [-124.01771, 46.71933],\n",
       " [-124.01779, 46.72198],\n",
       " [-124.02105, 46.72327],\n",
       " [-124.03118, 46.72698],\n",
       " [-124.03504, 46.72468],\n",
       " [-124.04028, 46.72786],\n",
       " [-124.04809, 46.72615],\n",
       " [-124.0365, 46.71745],\n",
       " [-124.05899, 46.71633],\n",
       " [-124.06517, 46.71144],\n",
       " [-124.06448, 46.70997],\n",
       " [-124.04963, 46.70603],\n",
       " [-124.04552, 46.70679],\n",
       " [-124.03564, 46.70409],\n",
       " [-124.02758, 46.70544],\n",
       " [-124.0256, 46.70444],\n",
       " [-124.02612, 46.70338],\n",
       " [-124.03376, 46.70214],\n",
       " [-124.06251, 46.70544],\n",
       " [-124.07521, 46.70779],\n",
       " [-124.08112156862745, 46.70926529411764],\n",
       " [-124.08086901960785, 46.71565235294118],\n",
       " [-124.08121588235295, 46.723638627450974],\n",
       " [-124.08054921568628, 46.73187392156863],\n",
       " [-124.08120235294118, 46.73798450980392],\n",
       " [-124.08658784313725, 46.74481392156863],\n",
       " [-124.08658784313725, 46.754929215686275],\n",
       " [-124.08663490196079, 46.7617537254902],\n",
       " [-124.08798490196078, 46.77303],\n",
       " [-124.08999764705882, 46.780761568627454],\n",
       " [-124.09172431372549, 46.79371],\n",
       " [-124.09636352941176, 46.81186882352941],\n",
       " [-124.10116705882352, 46.82884117647059],\n",
       " [-124.1031268627451, 46.83412764705883],\n",
       " [-124.1049362745098, 46.838940588235296],\n",
       " [-124.10611470588235, 46.84201176470589],\n",
       " [-124.10675862745097, 46.84389],\n",
       " [-124.1076731372549, 46.845999803921565],\n",
       " [-124.10809470588235, 46.84694019607843],\n",
       " [-124.10837568627451, 46.84788901960784],\n",
       " [-124.10905450980393, 46.84965764705883],\n",
       " [-124.10980784313725, 46.851549019607845],\n",
       " [-124.11088980392157, 46.85444],\n",
       " [-124.11197411764707, 46.85712176470589],\n",
       " [-124.11273156862745, 46.85912],\n",
       " [-124.11312333333333, 46.86110137254902],\n",
       " [-124.11373392156862, 46.863131960784315],\n",
       " [-124.11476450980393, 46.8665294117647],\n",
       " [-124.11612274509804, 46.87143117647059],\n",
       " [-124.11754568627451, 46.876695490196084],\n",
       " [-124.11903196078431, 46.880759019607844],\n",
       " [-124.11974137254902, 46.884453529411765],\n",
       " [-124.11941078431371, 46.88944098039215],\n",
       " [-124.11839843137254, 46.892700980392156],\n",
       " [-124.1174694117647, 46.896672352941174],\n",
       " [-124.11632078431371, 46.899110392156864],\n",
       " [-124.1133637254902, 46.90294588235294],\n",
       " [-124.11129882352941, 46.90411019607843],\n",
       " [-124.10876666666667, 46.904917647058824],\n",
       " [-124.1063011764706, 46.90578411764706],\n",
       " [-124.10390196078431, 46.906003725490194],\n",
       " [-124.10064156862745, 46.90510431372549],\n",
       " [-124.0984149019608, 46.90396019607843],\n",
       " [-124.09623431372549, 46.902179411764706],\n",
       " [-124.09753137254903, 46.90175921568627],\n",
       " [-124.09951725490197, 46.90311098039216],\n",
       " [-124.10330450980392, 46.90526960784314],\n",
       " [-124.10860607843136, 46.90388803921569],\n",
       " [-124.11119470588235, 46.902133725490195],\n",
       " [-124.11296352941177, 46.89933019607843],\n",
       " [-124.11304901960784, 46.89779803921569],\n",
       " [-124.11162921568628, 46.899433333333334],\n",
       " [-124.11046764705883, 46.90110705882353],\n",
       " [-124.10791470588235, 46.902698039215686],\n",
       " [-124.10339666666667, 46.90344411764706],\n",
       " [-124.10129294117647, 46.90137745098039],\n",
       " [-124.0994456862745, 46.90079803921569],\n",
       " [-124.09996019607843, 46.89945215686274],\n",
       " [-124.10001490196079, 46.898059215686274],\n",
       " [-124.09902215686274, 46.89661921568627],\n",
       " [-124.09839117647059, 46.89422784313725],\n",
       " [-124.09399294117648, 46.89366],\n",
       " [-124.09377705882353, 46.89217941176471],\n",
       " [-124.09366156862745, 46.89079980392157],\n",
       " [-124.09397352941177, 46.88966980392157],\n",
       " [-124.09426470588235, 46.887648235294115],\n",
       " [-124.0949905882353, 46.88610764705883],\n",
       " [-124.09726862745099, 46.885462156862744],\n",
       " [-124.09867392156863, 46.88451843137255],\n",
       " [-124.09940490196078, 46.88386019607843],\n",
       " [-124.10103490196079, 46.88157137254902],\n",
       " [-124.10320509803921, 46.88065725490196],\n",
       " [-124.10239470588235, 46.87883647058823],\n",
       " [-124.10152156862745, 46.87748784313726],\n",
       " [-124.10048862745099, 46.87627784313726],\n",
       " [-124.09905960784313, 46.87447],\n",
       " [-124.09843862745097, 46.87391117647059],\n",
       " [-124.09733392156862, 46.872970196078434],\n",
       " [-124.09688882352941, 46.8718994117647],\n",
       " [-124.09583803921569, 46.870747450980396],\n",
       " [-124.09568882352941, 46.869329803921566],\n",
       " [-124.09521666666666, 46.8682962745098],\n",
       " [-124.09485862745098, 46.86733705882353],\n",
       " [-124.09310176470588, 46.865470392156865],\n",
       " [-124.09090647058824, 46.863586862745095],\n",
       " [-124.0889719607843, 46.861868627450974],\n",
       " [-124.08684627450981, 46.8616468627451]]"
      ]
     },
     "execution_count": 80,
     "metadata": {},
     "output_type": "execute_result"
    }
   ],
   "source": [
    "dict_for_all_years_no_1860_1911[1861]"
   ]
  },
  {
   "cell_type": "code",
   "execution_count": 97,
   "metadata": {},
   "outputs": [
    {
     "data": {
      "text/plain": [
       "107"
      ]
     },
     "execution_count": 97,
     "metadata": {},
     "output_type": "execute_result"
    }
   ],
   "source": [
    "len(offset_line_no_1860_1911[1861])"
   ]
  },
  {
   "cell_type": "code",
   "execution_count": 81,
   "metadata": {},
   "outputs": [
    {
     "data": {
      "text/plain": [
       "119"
      ]
     },
     "execution_count": 81,
     "metadata": {},
     "output_type": "execute_result"
    }
   ],
   "source": [
    "len(dict_for_all_years_no_1860_1911[1861])"
   ]
  },
  {
   "cell_type": "code",
   "execution_count": 109,
   "metadata": {},
   "outputs": [],
   "source": [
    "polygon_no_1860_1911={}\n",
    "for year in range(1861,1911):\n",
    "  #to make it enclosed, add the first point\n",
    "  polygon_no_1860_1911[year] = offset_line_no_1860_1911[year] + dict_for_all_years_no_1860_1911[year]+[offset_line_no_1860_1911[year][0]]\n",
    "\n"
   ]
  },
  {
   "cell_type": "code",
   "execution_count": 99,
   "metadata": {},
   "outputs": [
    {
     "data": {
      "text/plain": [
       "227"
      ]
     },
     "execution_count": 99,
     "metadata": {},
     "output_type": "execute_result"
    }
   ],
   "source": [
    "len(polygon_no_1860_1911[1861])"
   ]
  },
  {
   "cell_type": "code",
   "execution_count": 107,
   "metadata": {},
   "outputs": [
    {
     "data": {
      "text/plain": [
       "119"
      ]
     },
     "execution_count": 107,
     "metadata": {},
     "output_type": "execute_result"
    }
   ],
   "source": [
    "len(dict_for_all_years_no_1860_1911[1861])"
   ]
  },
  {
   "cell_type": "code",
   "execution_count": 108,
   "metadata": {},
   "outputs": [
    {
     "data": {
      "text/plain": [
       "107"
      ]
     },
     "execution_count": 108,
     "metadata": {},
     "output_type": "execute_result"
    }
   ],
   "source": [
    "len(offset_line_no_1860_1911[1861])"
   ]
  },
  {
   "cell_type": "code",
   "execution_count": 104,
   "metadata": {},
   "outputs": [
    {
     "data": {
      "text/plain": [
       "[-124.08626968141355, 46.86243457940402]"
      ]
     },
     "execution_count": 104,
     "metadata": {},
     "output_type": "execute_result"
    }
   ],
   "source": [
    "offset_line_no_1860_1911[1900][0]"
   ]
  },
  {
   "cell_type": "code",
   "execution_count": 105,
   "metadata": {},
   "outputs": [
    {
     "data": {
      "text/plain": [
       "[-123.97204973905733, 46.70803118790559]"
      ]
     },
     "execution_count": 105,
     "metadata": {},
     "output_type": "execute_result"
    }
   ],
   "source": [
    "offset_line_no_1860_1911[1900][-1]"
   ]
  },
  {
   "cell_type": "code",
   "execution_count": 106,
   "metadata": {},
   "outputs": [
    {
     "data": {
      "text/plain": [
       "[-123.97213, 46.70791]"
      ]
     },
     "execution_count": 106,
     "metadata": {},
     "output_type": "execute_result"
    }
   ],
   "source": [
    "polygon_no_1860_1911[1900][-1]"
   ]
  },
  {
   "cell_type": "code",
   "execution_count": 113,
   "metadata": {},
   "outputs": [],
   "source": [
    "# for each value in the dict_for_all_years_no_1860_1911, create a geojson file, and this is a linestring\n",
    "for year in dict_for_all_years_no_1860_1911.keys():\n",
    "    geojson = {\n",
    "        \"type\": \"Feature\",\n",
    "        \"properties\": {\n",
    "            \"name\": \"Shoreline\",\n",
    "            \"year\": year\n",
    "        },\n",
    "        \"geometry\": {\n",
    "            \"type\": \"Polygon\",\n",
    "            \"coordinates\": [polygon_no_1860_1911[year]]\n",
    "        }\n",
    "    }\n",
    "    with open(f'assets/ECY_estimated_shorelines_poly/May3_2024/14.8m/{year}.geojson', 'w') as f:\n",
    "        json.dump(geojson, f, indent=4)"
   ]
  },
  {
   "cell_type": "code",
   "execution_count": 100,
   "metadata": {},
   "outputs": [],
   "source": [
    "geojson = {\n",
    "        \"type\": \"Feature\",\n",
    "        \"properties\": {\n",
    "            \"name\": \"Shoreline\",\n",
    "            \"year\": year\n",
    "        },\n",
    "        \"geometry\": {\n",
    "            \"type\": \"LineString\",\n",
    "            \"coordinates\": offset_line_no_1860_1911[1900]\n",
    "        }\n",
    "    }\n",
    "with open(f'1900_can_remove.geojson', 'w') as f:\n",
    "    json.dump(geojson, f)"
   ]
  }
 ],
 "metadata": {
  "kernelspec": {
   "display_name": "geo",
   "language": "python",
   "name": "python3"
  },
  "language_info": {
   "codemirror_mode": {
    "name": "ipython",
    "version": 3
   },
   "file_extension": ".py",
   "mimetype": "text/x-python",
   "name": "python",
   "nbconvert_exporter": "python",
   "pygments_lexer": "ipython3",
   "version": "3.10.8"
  }
 },
 "nbformat": 4,
 "nbformat_minor": 2
}
