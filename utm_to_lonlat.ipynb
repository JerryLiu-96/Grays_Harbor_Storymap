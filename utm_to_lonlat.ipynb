{
 "cells": [
  {
   "attachments": {},
   "cell_type": "markdown",
   "metadata": {},
   "source": [
    "This python script convert utm to latlon coordinates and generate the output file in geojson format"
   ]
  },
  {
   "cell_type": "code",
   "execution_count": 2,
   "metadata": {},
   "outputs": [],
   "source": [
    "import utm\n",
    "import numpy as np"
   ]
  },
  {
   "cell_type": "code",
   "execution_count": 19,
   "metadata": {},
   "outputs": [],
   "source": [
    "list_of_utm=[(414894, 5192567),(415336, 5190076),(416300,5186122),(416800,5182873),(417111,5180063),(417104,5177463),(417549,5176548)]"
   ]
  },
  {
   "cell_type": "code",
   "execution_count": 20,
   "metadata": {},
   "outputs": [
    {
     "name": "stdout",
     "output_type": "stream",
     "text": [
      "[(46.88119099155512, -124.1169700301408), (46.85883522906347, -124.11070764015277), (46.82338166697302, -124.09733865253898), (46.794211657212344, -124.0901938134098), (46.76896745011886, -124.08561105877308), (46.74557300248521, -124.08523290585136), (46.737395315377945, -124.07924393407284)]\n"
     ]
    }
   ],
   "source": [
    "list_of_latlon=[]\n",
    "for point in list_of_utm:\n",
    "    list_of_latlon.append(utm.to_latlon(point[0],point[1],10, 'T'))\n",
    "print(list_of_latlon)\n"
   ]
  },
  {
   "cell_type": "code",
   "execution_count": 21,
   "metadata": {},
   "outputs": [],
   "source": [
    "#change tuple to list\n",
    "list_of_latlon = [list(elem) for elem in list_of_latlon]"
   ]
  },
  {
   "cell_type": "code",
   "execution_count": 22,
   "metadata": {},
   "outputs": [
    {
     "data": {
      "text/plain": [
       "[[46.88119099155512, -124.1169700301408],\n",
       " [46.85883522906347, -124.11070764015277],\n",
       " [46.82338166697302, -124.09733865253898],\n",
       " [46.794211657212344, -124.0901938134098],\n",
       " [46.76896745011886, -124.08561105877308],\n",
       " [46.74557300248521, -124.08523290585136],\n",
       " [46.737395315377945, -124.07924393407284]]"
      ]
     },
     "execution_count": 22,
     "metadata": {},
     "output_type": "execute_result"
    }
   ],
   "source": [
    "list_of_latlon"
   ]
  },
  {
   "cell_type": "code",
   "execution_count": 34,
   "metadata": {},
   "outputs": [],
   "source": [
    "# swap the order of the lat and lon\n",
    "list_of_latlon_swapped=[]\n",
    "for point in list_of_latlon:\n",
    "    list_of_latlon_swapped.append([point[1],point[0]])"
   ]
  },
  {
   "cell_type": "code",
   "execution_count": 35,
   "metadata": {},
   "outputs": [],
   "source": [
    "list_of_latlon_swapped=[list_of_latlon_swapped]"
   ]
  },
  {
   "cell_type": "code",
   "execution_count": 36,
   "metadata": {},
   "outputs": [
    {
     "data": {
      "text/plain": [
       "[[[-124.1169700301408, 46.88119099155512],\n",
       "  [-124.11070764015277, 46.85883522906347],\n",
       "  [-124.09733865253898, 46.82338166697302],\n",
       "  [-124.0901938134098, 46.794211657212344],\n",
       "  [-124.08561105877308, 46.76896745011886],\n",
       "  [-124.08523290585136, 46.74557300248521],\n",
       "  [-124.07924393407284, 46.737395315377945]]]"
      ]
     },
     "execution_count": 36,
     "metadata": {},
     "output_type": "execute_result"
    }
   ],
   "source": [
    "list_of_latlon_swapped"
   ]
  },
  {
   "cell_type": "code",
   "execution_count": 25,
   "metadata": {},
   "outputs": [],
   "source": [
    "data={\n",
    "    \"type\": \"FeatureCollection\",\n",
    "    \"features\": [ \n",
    "        {\n",
    "            \"type\": \"Feature\", \n",
    "            \"geometry\":{\n",
    "        \"type\": \"MultiLineString\",\n",
    "        \"coordinates\": list_of_latlon_swapped\n",
    "    }}]\n",
    "   }"
   ]
  },
  {
   "cell_type": "code",
   "execution_count": 26,
   "metadata": {},
   "outputs": [],
   "source": [
    "# write to geojson\n",
    "import geojson\n",
    "from geojson import Feature, Point, FeatureCollection"
   ]
  },
  {
   "cell_type": "code",
   "execution_count": 27,
   "metadata": {},
   "outputs": [],
   "source": [
    "with open('/Users/ziyangliu/Desktop/Workspace/Grays_Harbor_Storymap/assets/1700_coastline.geojson', 'w', encoding='utf-8') as f:\n",
    "    geojson.dump(data, f, ensure_ascii=False, indent=4)  "
   ]
  }
 ],
 "metadata": {
  "kernelspec": {
   "display_name": "geo",
   "language": "python",
   "name": "python3"
  },
  "language_info": {
   "codemirror_mode": {
    "name": "ipython",
    "version": 3
   },
   "file_extension": ".py",
   "mimetype": "text/x-python",
   "name": "python",
   "nbconvert_exporter": "python",
   "pygments_lexer": "ipython3",
   "version": "3.10.8 (main, Nov 24 2022, 08:09:04) [Clang 14.0.6 ]"
  },
  "orig_nbformat": 4,
  "vscode": {
   "interpreter": {
    "hash": "3cd076dcb4918821264036ad97c528c48b43b0ef789cb1b9c9a6088ad58347d2"
   }
  }
 },
 "nbformat": 4,
 "nbformat_minor": 2
}
