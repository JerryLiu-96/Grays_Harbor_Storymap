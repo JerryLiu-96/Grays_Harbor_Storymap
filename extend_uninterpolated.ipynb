{
 "cells": [
  {
   "attachments": {},
   "cell_type": "markdown",
   "metadata": {},
   "source": [
    "## Attention: Here we just pretend that "
   ]
  },
  {
   "cell_type": "code",
   "execution_count": 3,
   "metadata": {},
   "outputs": [
    {
     "name": "stdout",
     "output_type": "stream",
     "text": [
      "POINT (2 0)\n"
     ]
    }
   ],
   "source": [
    "import numpy as np\n",
    "from shapely.geometry import LineString\n",
    "\n",
    "# Create a LineString object representing the first segment\n",
    "segment1 = LineString([(0, 0), (1, 0)])\n",
    "\n",
    "# Create a LineString object representing the second segment\n",
    "segment2 = LineString([(2, -1), (2, 2)])\n",
    "\n",
    "# Calculate the direction vector for segment1\n",
    "p1, p2 = segment1.coords\n",
    "direction_vector = np.array([p2[0] - p1[0], p2[1] - p1[1]])\n",
    "\n",
    "# Extend the line by 10 units\n",
    "extended_line = LineString([tuple(p1 - 10 * direction_vector), tuple(p2 + 10 * direction_vector)])\n",
    "\n",
    "# Calculate the intersection point\n",
    "intersection = extended_line.intersection(segment2)\n",
    "print(intersection)\n"
   ]
  },
  {
   "cell_type": "code",
   "execution_count": 16,
   "metadata": {},
   "outputs": [],
   "source": [
    "import os\n",
    "import glob\n",
    "import geojson\n",
    "# Set the directory path\n",
    "directory_path = \"assets/ECY_estimated_shorelines/\"\n",
    "\n",
    "# Get all file names in the directory\n",
    "file_names = glob.glob(os.path.join(directory_path, \"*\"))\n",
    "\n",
    "# Loop through each file and open it\n",
    "# ONLY files from 1701 to 1859 are amended with the for loop below\n",
    "for i in range(1701,1860):\n",
    "    file_name = directory_path + str(i) + \".geojson\"\n",
    "    with open(file_name, \"r\") as f:\n",
    "        data=geojson.load(f)\n",
    "        #print(data)\n",
    "        #print(data['geometry']['coordinates'])\n",
    "        segment1=LineString([tuple(data['geometry']['coordinates'][1]),tuple(data['geometry']['coordinates'][0])])\n",
    "        segment2=LineString([(-124.128518,46.859099),(-124.080700,46.859099)])\n",
    "        # Calculate the direction vector for segment1\n",
    "        p1, p2 = segment1.coords\n",
    "        direction_vector = np.array([p2[0] - p1[0], p2[1] - p1[1]])\n",
    "\n",
    "        # Extend the line by 10 units\n",
    "        extended_line = LineString([tuple(p1 - 1000 * direction_vector), tuple(p2 + 1000 * direction_vector)])\n",
    "\n",
    "        # Calculate the intersection point\n",
    "        intersection = extended_line.intersection(segment2)\n",
    "        #print(list(intersection.coords[0]))\n",
    "        data['geometry']['coordinates'].insert(0,list(intersection.coords[0]))\n",
    "        #print(data)\n",
    "\n",
    "        # Save the edited GeoJSON data back to a file\n",
    "    with open(file_name, \"w\") as f:\n",
    "        geojson.dump(data, f)\n",
    "    #break\n",
    "\n"
   ]
  },
  {
   "cell_type": "code",
   "execution_count": 17,
   "metadata": {},
   "outputs": [
    {
     "name": "stdout",
     "output_type": "stream",
     "text": [
      "{\"geometry\": {\"coordinates\": [[-124.110784, 46.859099], [-124.115942, 46.877483], [-124.116075, 46.877957], [-124.116208, 46.878432], [-124.116342, 46.878907], [-124.116475, 46.879381], [-124.116608, 46.879856], [-124.116742, 46.880331], [-124.116875, 46.880805]], \"type\": \"LineString\"}, \"properties\": {}, \"type\": \"Feature\"}\n"
     ]
    }
   ],
   "source": [
    "with open(\"assets/ECY_estimated_shorelines/1701.geojson\", \"r\") as f:\n",
    "        data=geojson.load(f)\n",
    "        print(data)"
   ]
  },
  {
   "cell_type": "code",
   "execution_count": null,
   "metadata": {},
   "outputs": [],
   "source": [
    "[-124.11453978674948, 46.859099]"
   ]
  }
 ],
 "metadata": {
  "kernelspec": {
   "display_name": "geo",
   "language": "python",
   "name": "python3"
  },
  "language_info": {
   "codemirror_mode": {
    "name": "ipython",
    "version": 3
   },
   "file_extension": ".py",
   "mimetype": "text/x-python",
   "name": "python",
   "nbconvert_exporter": "python",
   "pygments_lexer": "ipython3",
   "version": "3.10.8 (main, Nov 24 2022, 08:09:04) [Clang 14.0.6 ]"
  },
  "orig_nbformat": 4,
  "vscode": {
   "interpreter": {
    "hash": "3cd076dcb4918821264036ad97c528c48b43b0ef789cb1b9c9a6088ad58347d2"
   }
  }
 },
 "nbformat": 4,
 "nbformat_minor": 2
}
